{
 "cells": [
  {
   "cell_type": "code",
   "execution_count": null,
   "id": "15bb3e2b",
   "metadata": {},
   "outputs": [],
   "source": [
    "# tab - to check inbuilt function\n",
    "# shift-tab - to check the details of the function"
   ]
  },
  {
   "cell_type": "code",
   "execution_count": 2,
   "id": "6718424c",
   "metadata": {},
   "outputs": [
    {
     "data": {
      "text/plain": [
       "b'Mrinmoy Halder Halder Mrinmoy'"
      ]
     },
     "execution_count": 2,
     "metadata": {},
     "output_type": "execute_result"
    }
   ],
   "source": [
    "str = \"Mrinmoy Halder Halder Mrinmoy\"\n",
    "str.encode()"
   ]
  },
  {
   "cell_type": "code",
   "execution_count": 3,
   "id": "a717ec1e",
   "metadata": {},
   "outputs": [],
   "source": [
    "#list = []\n",
    "#list."
   ]
  },
  {
   "cell_type": "code",
   "execution_count": 4,
   "id": "c395ddb9",
   "metadata": {},
   "outputs": [],
   "source": [
    "list = ['a','b','c','d','e','f','g','h']"
   ]
  },
  {
   "cell_type": "code",
   "execution_count": 5,
   "id": "b19eb909",
   "metadata": {},
   "outputs": [
    {
     "data": {
      "text/plain": [
       "['a', 'b', 'c', 'd', 'e', 'f', 'g', 'h']"
      ]
     },
     "execution_count": 5,
     "metadata": {},
     "output_type": "execute_result"
    }
   ],
   "source": [
    "list[:]"
   ]
  },
  {
   "cell_type": "code",
   "execution_count": 6,
   "id": "59941b57",
   "metadata": {},
   "outputs": [
    {
     "data": {
      "text/plain": [
       "['a', 'b', 'c', 'd', 'e', 'f', 'g', 'h']"
      ]
     },
     "execution_count": 6,
     "metadata": {},
     "output_type": "execute_result"
    }
   ],
   "source": [
    "list[0:]"
   ]
  },
  {
   "cell_type": "code",
   "execution_count": 7,
   "id": "5cf0113a",
   "metadata": {},
   "outputs": [
    {
     "data": {
      "text/plain": [
       "['b', 'c', 'd', 'e', 'f', 'g', 'h']"
      ]
     },
     "execution_count": 7,
     "metadata": {},
     "output_type": "execute_result"
    }
   ],
   "source": [
    "list[1:]"
   ]
  },
  {
   "cell_type": "code",
   "execution_count": 8,
   "id": "4a146f29",
   "metadata": {},
   "outputs": [
    {
     "data": {
      "text/plain": [
       "['d', 'e', 'f']"
      ]
     },
     "execution_count": 8,
     "metadata": {},
     "output_type": "execute_result"
    }
   ],
   "source": [
    "list[3:6]"
   ]
  },
  {
   "cell_type": "code",
   "execution_count": 9,
   "id": "a1298704",
   "metadata": {},
   "outputs": [],
   "source": [
    "list.append(6)"
   ]
  },
  {
   "cell_type": "code",
   "execution_count": 10,
   "id": "69af2a8d",
   "metadata": {},
   "outputs": [
    {
     "data": {
      "text/plain": [
       "['a', 'b', 'c', 'd', 'e', 'f', 'g', 'h', 6]"
      ]
     },
     "execution_count": 10,
     "metadata": {},
     "output_type": "execute_result"
    }
   ],
   "source": [
    "list"
   ]
  },
  {
   "cell_type": "code",
   "execution_count": 11,
   "id": "dea917bb",
   "metadata": {},
   "outputs": [],
   "source": [
    "list.append([7,8,9])"
   ]
  },
  {
   "cell_type": "code",
   "execution_count": 12,
   "id": "60e4e06b",
   "metadata": {},
   "outputs": [
    {
     "data": {
      "text/plain": [
       "['a', 'b', 'c', 'd', 'e', 'f', 'g', 'h', 6, [7, 8, 9]]"
      ]
     },
     "execution_count": 12,
     "metadata": {},
     "output_type": "execute_result"
    }
   ],
   "source": [
    "list"
   ]
  },
  {
   "cell_type": "code",
   "execution_count": 13,
   "id": "e222b361",
   "metadata": {},
   "outputs": [],
   "source": [
    "list.remove([7,8,9])"
   ]
  },
  {
   "cell_type": "code",
   "execution_count": 14,
   "id": "a652ea06",
   "metadata": {},
   "outputs": [
    {
     "data": {
      "text/plain": [
       "['a', 'b', 'c', 'd', 'e', 'f', 'g', 'h', 6]"
      ]
     },
     "execution_count": 14,
     "metadata": {},
     "output_type": "execute_result"
    }
   ],
   "source": [
    "list"
   ]
  },
  {
   "cell_type": "code",
   "execution_count": 15,
   "id": "8384f9c7",
   "metadata": {},
   "outputs": [
    {
     "data": {
      "text/plain": [
       "['a', 'b', 'c', 'd', 'e', 'f', 'g', 'h', 6, 7, 8, 9]"
      ]
     },
     "execution_count": 15,
     "metadata": {},
     "output_type": "execute_result"
    }
   ],
   "source": [
    "list.extend([7,8,9]) ### see the difference between extend and append\n",
    "list"
   ]
  },
  {
   "cell_type": "code",
   "execution_count": 16,
   "id": "7ad0596b",
   "metadata": {},
   "outputs": [],
   "source": [
    "list.insert(0,-1)"
   ]
  },
  {
   "cell_type": "code",
   "execution_count": 17,
   "id": "d7d69177",
   "metadata": {},
   "outputs": [
    {
     "data": {
      "text/plain": [
       "[-1, 'a', 'b', 'c', 'd', 'e', 'f', 'g', 'h', 6, 7, 8, 9]"
      ]
     },
     "execution_count": 17,
     "metadata": {},
     "output_type": "execute_result"
    }
   ],
   "source": [
    "list"
   ]
  },
  {
   "cell_type": "code",
   "execution_count": 19,
   "id": "489f1cd6",
   "metadata": {},
   "outputs": [
    {
     "data": {
      "text/plain": [
       "2"
      ]
     },
     "execution_count": 19,
     "metadata": {},
     "output_type": "execute_result"
    }
   ],
   "source": [
    "list.index('b',0)"
   ]
  },
  {
   "cell_type": "code",
   "execution_count": 21,
   "id": "86b75b73",
   "metadata": {},
   "outputs": [
    {
     "ename": "ValueError",
     "evalue": "'b' is not in list",
     "output_type": "error",
     "traceback": [
      "\u001b[1;31m---------------------------------------------------------------------------\u001b[0m",
      "\u001b[1;31mValueError\u001b[0m                                Traceback (most recent call last)",
      "\u001b[1;32m~\\AppData\\Local\\Temp/ipykernel_9420/2695513026.py\u001b[0m in \u001b[0;36m<module>\u001b[1;34m\u001b[0m\n\u001b[1;32m----> 1\u001b[1;33m \u001b[0mlist\u001b[0m\u001b[1;33m.\u001b[0m\u001b[0mindex\u001b[0m\u001b[1;33m(\u001b[0m\u001b[1;34m'b'\u001b[0m\u001b[1;33m,\u001b[0m\u001b[1;36m3\u001b[0m\u001b[1;33m)\u001b[0m\u001b[1;33m\u001b[0m\u001b[1;33m\u001b[0m\u001b[0m\n\u001b[0m",
      "\u001b[1;31mValueError\u001b[0m: 'b' is not in list"
     ]
    }
   ],
   "source": [
    "list.index('b',3)"
   ]
  },
  {
   "cell_type": "code",
   "execution_count": 48,
   "id": "bb9ed5d7",
   "metadata": {},
   "outputs": [
    {
     "data": {
      "text/plain": [
       "1"
      ]
     },
     "execution_count": 48,
     "metadata": {},
     "output_type": "execute_result"
    }
   ],
   "source": [
    "list.count(6)"
   ]
  },
  {
   "cell_type": "code",
   "execution_count": 49,
   "id": "031eba7e",
   "metadata": {},
   "outputs": [
    {
     "ename": "TypeError",
     "evalue": "'set' object is not callable",
     "output_type": "error",
     "traceback": [
      "\u001b[1;31m---------------------------------------------------------------------------\u001b[0m",
      "\u001b[1;31mTypeError\u001b[0m                                 Traceback (most recent call last)",
      "\u001b[1;32m~\\AppData\\Local\\Temp/ipykernel_9420/187859513.py\u001b[0m in \u001b[0;36m<module>\u001b[1;34m\u001b[0m\n\u001b[0;32m      1\u001b[0m \u001b[1;31m#set = {} ### by default it's dtctionary( key value pairs)\u001b[0m\u001b[1;33m\u001b[0m\u001b[1;33m\u001b[0m\u001b[0m\n\u001b[1;32m----> 2\u001b[1;33m \u001b[0mset1\u001b[0m \u001b[1;33m=\u001b[0m \u001b[0mset\u001b[0m\u001b[1;33m(\u001b[0m\u001b[1;33m)\u001b[0m\u001b[1;33m\u001b[0m\u001b[1;33m\u001b[0m\u001b[0m\n\u001b[0m\u001b[0;32m      3\u001b[0m \u001b[0mset1\u001b[0m\u001b[1;33m\u001b[0m\u001b[1;33m\u001b[0m\u001b[0m\n",
      "\u001b[1;31mTypeError\u001b[0m: 'set' object is not callable"
     ]
    }
   ],
   "source": [
    "#set = {} ### by default it's dtctionary( key value pairs)\n",
    "set1 = set()\n",
    "set1"
   ]
  },
  {
   "cell_type": "code",
   "execution_count": 46,
   "id": "1a2f360f",
   "metadata": {},
   "outputs": [
    {
     "data": {
      "text/plain": [
       "set"
      ]
     },
     "execution_count": 46,
     "metadata": {},
     "output_type": "execute_result"
    }
   ],
   "source": [
    "dicto = {1,2,3}\n",
    "type(dicto)"
   ]
  },
  {
   "cell_type": "code",
   "execution_count": 47,
   "id": "f813ff83",
   "metadata": {},
   "outputs": [],
   "source": [
    "dicto=dict()"
   ]
  },
  {
   "cell_type": "code",
   "execution_count": 43,
   "id": "36190540",
   "metadata": {},
   "outputs": [
    {
     "data": {
      "text/plain": [
       "dict"
      ]
     },
     "execution_count": 43,
     "metadata": {},
     "output_type": "execute_result"
    }
   ],
   "source": [
    "type(dicto)"
   ]
  },
  {
   "cell_type": "code",
   "execution_count": 51,
   "id": "69a786d1",
   "metadata": {},
   "outputs": [],
   "source": [
    "dicto = {1:'a',2:'b',3:'c'}"
   ]
  },
  {
   "cell_type": "code",
   "execution_count": 52,
   "id": "f7dc713a",
   "metadata": {},
   "outputs": [
    {
     "data": {
      "text/plain": [
       "'a'"
      ]
     },
     "execution_count": 52,
     "metadata": {},
     "output_type": "execute_result"
    }
   ],
   "source": [
    "dicto[1]"
   ]
  },
  {
   "cell_type": "code",
   "execution_count": 54,
   "id": "30cc59b1",
   "metadata": {},
   "outputs": [],
   "source": [
    "nested_dicto = {'d':dicto}"
   ]
  },
  {
   "cell_type": "code",
   "execution_count": 57,
   "id": "f034fafe",
   "metadata": {},
   "outputs": [
    {
     "data": {
      "text/plain": [
       "{1: 'a', 2: 'b', 3: 'c'}"
      ]
     },
     "execution_count": 57,
     "metadata": {},
     "output_type": "execute_result"
    }
   ],
   "source": [
    "nested_dicto['d']"
   ]
  },
  {
   "cell_type": "code",
   "execution_count": 58,
   "id": "5f513709",
   "metadata": {},
   "outputs": [],
   "source": [
    "tup = tuple()"
   ]
  },
  {
   "cell_type": "code",
   "execution_count": 59,
   "id": "31ada364",
   "metadata": {},
   "outputs": [
    {
     "data": {
      "text/plain": [
       "()"
      ]
     },
     "execution_count": 59,
     "metadata": {},
     "output_type": "execute_result"
    }
   ],
   "source": [
    "tup"
   ]
  },
  {
   "cell_type": "code",
   "execution_count": 60,
   "id": "3f2b27e9",
   "metadata": {},
   "outputs": [],
   "source": [
    "tup = (1,2,3)"
   ]
  },
  {
   "cell_type": "code",
   "execution_count": 61,
   "id": "6cfeaad5",
   "metadata": {},
   "outputs": [
    {
     "data": {
      "text/plain": [
       "(1, 2, 3)"
      ]
     },
     "execution_count": 61,
     "metadata": {},
     "output_type": "execute_result"
    }
   ],
   "source": [
    "tup"
   ]
  },
  {
   "cell_type": "markdown",
   "id": "5ae90553",
   "metadata": {},
   "source": [
    "Numpy array"
   ]
  },
  {
   "cell_type": "code",
   "execution_count": 62,
   "id": "0b38d464",
   "metadata": {},
   "outputs": [],
   "source": [
    "import numpy as np"
   ]
  },
  {
   "cell_type": "code",
   "execution_count": 65,
   "id": "4bd4b301",
   "metadata": {},
   "outputs": [],
   "source": [
    "arr = np.array([1,2,3,4,5,6])"
   ]
  },
  {
   "cell_type": "code",
   "execution_count": 66,
   "id": "8a96d739",
   "metadata": {},
   "outputs": [
    {
     "data": {
      "text/plain": [
       "array([1, 2, 3, 4, 5, 6])"
      ]
     },
     "execution_count": 66,
     "metadata": {},
     "output_type": "execute_result"
    }
   ],
   "source": [
    "arr"
   ]
  },
  {
   "cell_type": "code",
   "execution_count": 67,
   "id": "3cbb5072",
   "metadata": {},
   "outputs": [
    {
     "data": {
      "text/plain": [
       "numpy.ndarray"
      ]
     },
     "execution_count": 67,
     "metadata": {},
     "output_type": "execute_result"
    }
   ],
   "source": [
    "type(arr)"
   ]
  },
  {
   "cell_type": "code",
   "execution_count": 69,
   "id": "05ba403c",
   "metadata": {},
   "outputs": [
    {
     "name": "stdout",
     "output_type": "stream",
     "text": [
      "[1 2 3 4 5 6]\n"
     ]
    }
   ],
   "source": [
    "print(arr)"
   ]
  },
  {
   "cell_type": "code",
   "execution_count": 70,
   "id": "0d4dc48b",
   "metadata": {},
   "outputs": [
    {
     "data": {
      "text/plain": [
       "(6,)"
      ]
     },
     "execution_count": 70,
     "metadata": {},
     "output_type": "execute_result"
    }
   ],
   "source": [
    "arr.shape"
   ]
  },
  {
   "cell_type": "code",
   "execution_count": 79,
   "id": "e4f8483d",
   "metadata": {},
   "outputs": [],
   "source": [
    "# TWO DIMENSIONAL array \n",
    "lst1 = [1,2,3,4,5]\n",
    "lst2 = [7,8,9,10,11]\n",
    "lst3 = [12,13,14,15,16]\n",
    "#arr = np.array([1,2,3,4,5,6])\n",
    "marr = np.array([lst1,lst2,lst3])"
   ]
  },
  {
   "cell_type": "code",
   "execution_count": 87,
   "id": "ffae411b",
   "metadata": {},
   "outputs": [
    {
     "data": {
      "text/plain": [
       "(3, 5)"
      ]
     },
     "execution_count": 87,
     "metadata": {},
     "output_type": "execute_result"
    }
   ],
   "source": [
    "marr\n",
    "marr.shape"
   ]
  },
  {
   "cell_type": "code",
   "execution_count": 92,
   "id": "3a1319eb",
   "metadata": {},
   "outputs": [
    {
     "data": {
      "text/plain": [
       "array([[ 1,  2,  3,  4,  5],\n",
       "       [ 7,  8,  9, 10, 11],\n",
       "       [12, 13, 14, 15, 16]])"
      ]
     },
     "execution_count": 92,
     "metadata": {},
     "output_type": "execute_result"
    }
   ],
   "source": [
    "marr"
   ]
  },
  {
   "cell_type": "code",
   "execution_count": 101,
   "id": "5d11eacc",
   "metadata": {},
   "outputs": [],
   "source": [
    "marr2 = marr.reshape(5,3)"
   ]
  },
  {
   "cell_type": "code",
   "execution_count": 102,
   "id": "6f7d0b21",
   "metadata": {},
   "outputs": [
    {
     "data": {
      "text/plain": [
       "array([[ 1,  2,  3],\n",
       "       [ 4,  5,  7],\n",
       "       [ 8,  9, 10],\n",
       "       [11, 12, 13],\n",
       "       [14, 15, 16]])"
      ]
     },
     "execution_count": 102,
     "metadata": {},
     "output_type": "execute_result"
    }
   ],
   "source": [
    "marr2"
   ]
  },
  {
   "cell_type": "code",
   "execution_count": 103,
   "id": "6c8d2d9b",
   "metadata": {},
   "outputs": [
    {
     "data": {
      "text/plain": [
       "array([[ 1,  2,  3,  4,  5],\n",
       "       [ 7,  8,  9, 10, 11],\n",
       "       [12, 13, 14, 15, 16]])"
      ]
     },
     "execution_count": 103,
     "metadata": {},
     "output_type": "execute_result"
    }
   ],
   "source": [
    "marr"
   ]
  },
  {
   "cell_type": "markdown",
   "id": "2eb4cb49",
   "metadata": {},
   "source": [
    "Indexing in Numpy array"
   ]
  },
  {
   "cell_type": "code",
   "execution_count": 105,
   "id": "980f6cc1",
   "metadata": {},
   "outputs": [
    {
     "data": {
      "text/plain": [
       "array([12, 13, 14, 15, 16])"
      ]
     },
     "execution_count": 105,
     "metadata": {},
     "output_type": "execute_result"
    }
   ],
   "source": [
    "marr[2]"
   ]
  },
  {
   "cell_type": "code",
   "execution_count": 107,
   "id": "6155769e",
   "metadata": {},
   "outputs": [
    {
     "data": {
      "text/plain": [
       "14"
      ]
     },
     "execution_count": 107,
     "metadata": {},
     "output_type": "execute_result"
    }
   ],
   "source": [
    "marr[2][2]"
   ]
  },
  {
   "cell_type": "code",
   "execution_count": 111,
   "id": "5aa4fae9",
   "metadata": {},
   "outputs": [
    {
     "data": {
      "text/plain": [
       "array([12, 13, 14, 15])"
      ]
     },
     "execution_count": 111,
     "metadata": {},
     "output_type": "execute_result"
    }
   ],
   "source": [
    "marr[2][:4]"
   ]
  },
  {
   "cell_type": "code",
   "execution_count": 118,
   "id": "373ec510",
   "metadata": {},
   "outputs": [
    {
     "data": {
      "text/plain": [
       "array([[ 9, 10, 11],\n",
       "       [14, 15, 16]])"
      ]
     },
     "execution_count": 118,
     "metadata": {},
     "output_type": "execute_result"
    }
   ],
   "source": [
    "marr[1:,2:5]"
   ]
  },
  {
   "cell_type": "code",
   "execution_count": 120,
   "id": "22d97057",
   "metadata": {},
   "outputs": [
    {
     "data": {
      "text/plain": [
       "(array([[1, 2, 3],\n",
       "        [7, 8, 9]]),\n",
       " array([[ 4,  5],\n",
       "        [10, 11]]))"
      ]
     },
     "execution_count": 120,
     "metadata": {},
     "output_type": "execute_result"
    }
   ],
   "source": [
    "marr[:2,:3], marr[:2,3:]"
   ]
  },
  {
   "cell_type": "code",
   "execution_count": 123,
   "id": "442401fe",
   "metadata": {},
   "outputs": [],
   "source": [
    "arr1 = np.arange(0,10,3)"
   ]
  },
  {
   "cell_type": "code",
   "execution_count": 124,
   "id": "5b4b9ba8",
   "metadata": {},
   "outputs": [
    {
     "data": {
      "text/plain": [
       "array([0, 3, 6, 9])"
      ]
     },
     "execution_count": 124,
     "metadata": {},
     "output_type": "execute_result"
    }
   ],
   "source": [
    "arr1"
   ]
  },
  {
   "cell_type": "code",
   "execution_count": 125,
   "id": "eb95eb29",
   "metadata": {},
   "outputs": [],
   "source": [
    "import pandas as pd"
   ]
  },
  {
   "cell_type": "code",
   "execution_count": 127,
   "id": "df08786c",
   "metadata": {},
   "outputs": [],
   "source": [
    "df = pd.read_csv()"
   ]
  },
  {
   "cell_type": "code",
   "execution_count": null,
   "id": "02d55ed5",
   "metadata": {},
   "outputs": [],
   "source": [
    "df.loc & df.iloc ## two different things"
   ]
  },
  {
   "cell_type": "code",
   "execution_count": null,
   "id": "6ac4bc7e",
   "metadata": {},
   "outputs": [],
   "source": [
    "df.iloc[:,:]  ### like numpy array we can access \n",
    "\n",
    "# there is no shape function in dataframe, so we need to convert it into an array then apply .shape\n",
    "df.iloc[:,1:].values.shape"
   ]
  },
  {
   "cell_type": "code",
   "execution_count": 128,
   "id": "2e27e64e",
   "metadata": {},
   "outputs": [
    {
     "ename": "SyntaxError",
     "evalue": "invalid syntax (Temp/ipykernel_9420/3961677255.py, line 4)",
     "output_type": "error",
     "traceback": [
      "\u001b[1;36m  File \u001b[1;32m\"C:\\Users\\mrinm\\AppData\\Local\\Temp/ipykernel_9420/3961677255.py\"\u001b[1;36m, line \u001b[1;32m4\u001b[0m\n\u001b[1;33m    df.info\u001b[0m\n\u001b[1;37m    ^\u001b[0m\n\u001b[1;31mSyntaxError\u001b[0m\u001b[1;31m:\u001b[0m invalid syntax\n"
     ]
    }
   ],
   "source": [
    "df['column3'] ## it's ok\n",
    "df['column3','column4'] ## it's not ok beacuse we have to send them in a list for multiple columns\n",
    "df[['column3','column4']  ## now it's okay.\n",
    "df.info\n",
    "df.describe()  ## cat features will be skipped because the operations can't be performed on cat features.\n",
    "df.dtypes\n",
    "# there are many parameters in read_csv() function, separator(sep) is a useful parameter."
   ]
  },
  {
   "cell_type": "markdown",
   "id": "52a3634f",
   "metadata": {},
   "source": [
    "Lambda Function"
   ]
  },
  {
   "cell_type": "code",
   "execution_count": 130,
   "id": "e18bc797",
   "metadata": {},
   "outputs": [],
   "source": [
    "def add(a,b):\n",
    "    return a+b"
   ]
  },
  {
   "cell_type": "code",
   "execution_count": 131,
   "id": "7d895284",
   "metadata": {},
   "outputs": [
    {
     "data": {
      "text/plain": [
       "9"
      ]
     },
     "execution_count": 131,
     "metadata": {},
     "output_type": "execute_result"
    }
   ],
   "source": [
    "add(4,5)"
   ]
  },
  {
   "cell_type": "code",
   "execution_count": 132,
   "id": "e5e22855",
   "metadata": {},
   "outputs": [],
   "source": [
    "addition = lambda a,b:a+b"
   ]
  },
  {
   "cell_type": "code",
   "execution_count": 133,
   "id": "dda46613",
   "metadata": {},
   "outputs": [
    {
     "data": {
      "text/plain": [
       "9"
      ]
     },
     "execution_count": 133,
     "metadata": {},
     "output_type": "execute_result"
    }
   ],
   "source": [
    "addition(4,5)"
   ]
  },
  {
   "cell_type": "code",
   "execution_count": 134,
   "id": "900f517b",
   "metadata": {},
   "outputs": [],
   "source": [
    "def check(num):\n",
    "    if num%2==0:\n",
    "        print('even')\n",
    "    else:\n",
    "        print('odd')"
   ]
  },
  {
   "cell_type": "code",
   "execution_count": 135,
   "id": "4a3b0f0a",
   "metadata": {},
   "outputs": [
    {
     "name": "stdout",
     "output_type": "stream",
     "text": [
      "odd\n"
     ]
    }
   ],
   "source": [
    "check(45)"
   ]
  },
  {
   "cell_type": "code",
   "execution_count": 136,
   "id": "8a2a4f8f",
   "metadata": {},
   "outputs": [],
   "source": [
    "check = lambda num: print('even') if num % 2 == 0 else print('odd')"
   ]
  },
  {
   "cell_type": "code",
   "execution_count": 139,
   "id": "6d32bc06",
   "metadata": {},
   "outputs": [
    {
     "name": "stdout",
     "output_type": "stream",
     "text": [
      "odd\n"
     ]
    }
   ],
   "source": [
    "check(89)"
   ]
  },
  {
   "cell_type": "code",
   "execution_count": 140,
   "id": "d5e785e4",
   "metadata": {},
   "outputs": [],
   "source": [
    "#@#### Only possible for one return variable."
   ]
  },
  {
   "cell_type": "code",
   "execution_count": null,
   "id": "740bd355",
   "metadata": {},
   "outputs": [],
   "source": [
    "map() ##map function to apply on batches.\n",
    "filter()  ## filter on the basis of some functions applied on batch"
   ]
  },
  {
   "cell_type": "code",
   "execution_count": 142,
   "id": "3e0641cd",
   "metadata": {},
   "outputs": [],
   "source": [
    "def even(num):\n",
    "    if num%2==0:\n",
    "        return True"
   ]
  },
  {
   "cell_type": "code",
   "execution_count": 149,
   "id": "611d82ad",
   "metadata": {},
   "outputs": [],
   "source": [
    "lst = [1,2,3,4,5,6]"
   ]
  },
  {
   "cell_type": "code",
   "execution_count": 150,
   "id": "433edc1b",
   "metadata": {},
   "outputs": [
    {
     "data": {
      "text/plain": [
       "<filter at 0x229f0aee8b0>"
      ]
     },
     "execution_count": 150,
     "metadata": {},
     "output_type": "execute_result"
    }
   ],
   "source": [
    "filter(even,lst)"
   ]
  },
  {
   "cell_type": "code",
   "execution_count": 152,
   "id": "8fabea0d",
   "metadata": {},
   "outputs": [
    {
     "data": {
      "text/plain": [
       "<map at 0x229f0aeecd0>"
      ]
     },
     "execution_count": 152,
     "metadata": {},
     "output_type": "execute_result"
    }
   ],
   "source": [
    "(map(even,lst))"
   ]
  },
  {
   "cell_type": "code",
   "execution_count": 160,
   "id": "91de3804",
   "metadata": {},
   "outputs": [
    {
     "data": {
      "text/plain": [
       "<filter at 0x229f0aee520>"
      ]
     },
     "execution_count": 160,
     "metadata": {},
     "output_type": "execute_result"
    }
   ],
   "source": [
    "filter(lambda num:num%2==0,lst)"
   ]
  },
  {
   "cell_type": "markdown",
   "id": "3ce10722",
   "metadata": {},
   "source": [
    "List comprehension"
   ]
  },
  {
   "cell_type": "code",
   "execution_count": 177,
   "id": "466b717e",
   "metadata": {},
   "outputs": [],
   "source": [
    "lst = [1,2,3,4]\n",
    "lst1 = []\n",
    "def lst_square(lst):\n",
    "    for i in lst:\n",
    "        if i%2==0:\n",
    "            lst1.append(i*i)"
   ]
  },
  {
   "cell_type": "code",
   "execution_count": 178,
   "id": "a9bb31a4",
   "metadata": {},
   "outputs": [],
   "source": [
    "lst_square(lst)"
   ]
  },
  {
   "cell_type": "code",
   "execution_count": 179,
   "id": "5e8f4087",
   "metadata": {},
   "outputs": [
    {
     "data": {
      "text/plain": [
       "[4, 16]"
      ]
     },
     "execution_count": 179,
     "metadata": {},
     "output_type": "execute_result"
    }
   ],
   "source": [
    "lst1"
   ]
  },
  {
   "cell_type": "code",
   "execution_count": 180,
   "id": "f25620d1",
   "metadata": {},
   "outputs": [],
   "source": [
    "lst1 = [(i*i) for i in lst if i%2==0]"
   ]
  },
  {
   "cell_type": "code",
   "execution_count": 181,
   "id": "c95f8440",
   "metadata": {},
   "outputs": [
    {
     "data": {
      "text/plain": [
       "[4, 16]"
      ]
     },
     "execution_count": 181,
     "metadata": {},
     "output_type": "execute_result"
    }
   ],
   "source": [
    "lst1"
   ]
  },
  {
   "cell_type": "code",
   "execution_count": null,
   "id": "e6aab276",
   "metadata": {},
   "outputs": [],
   "source": [
    "### list comprehension is nothing but an expression followed by for loop, then followed by 0 or more if or for statement. "
   ]
  },
  {
   "cell_type": "code",
   "execution_count": 1,
   "id": "0b7e5d68",
   "metadata": {},
   "outputs": [],
   "source": [
    "#!pip install transformers"
   ]
  },
  {
   "cell_type": "code",
   "execution_count": 2,
   "id": "fdaf0752",
   "metadata": {},
   "outputs": [],
   "source": [
    "#!pip install datasets"
   ]
  },
  {
   "cell_type": "code",
   "execution_count": 3,
   "id": "4ef21fd3",
   "metadata": {},
   "outputs": [],
   "source": [
    "# from transformers import AutoModelForCausalLM\n",
    "# from datasets import load_dataset"
   ]
  },
  {
   "cell_type": "code",
   "execution_count": 4,
   "id": "360aab83",
   "metadata": {},
   "outputs": [],
   "source": [
    "### Class concept"
   ]
  },
  {
   "cell_type": "code",
   "execution_count": 17,
   "id": "799ecf8a",
   "metadata": {},
   "outputs": [],
   "source": [
    "class Car:\n",
    "    \n",
    "    def __init__(self,window,door,enginetype):\n",
    "        self.window = window\n",
    "        self.door = door\n",
    "        self.enginetypr = enginetype\n",
    "    def drive(self):\n",
    "        print(\"The person drives the Car\")"
   ]
  },
  {
   "cell_type": "code",
   "execution_count": 18,
   "id": "a9b8ca60",
   "metadata": {},
   "outputs": [],
   "source": [
    "Car1 = Car(3,4,5)"
   ]
  },
  {
   "cell_type": "code",
   "execution_count": 19,
   "id": "e94f00fb",
   "metadata": {},
   "outputs": [
    {
     "data": {
      "text/plain": [
       "4"
      ]
     },
     "execution_count": 19,
     "metadata": {},
     "output_type": "execute_result"
    }
   ],
   "source": [
    "Car1.door"
   ]
  },
  {
   "cell_type": "code",
   "execution_count": 20,
   "id": "73fdbb0c",
   "metadata": {},
   "outputs": [
    {
     "data": {
      "text/plain": [
       "['__class__',\n",
       " '__delattr__',\n",
       " '__dict__',\n",
       " '__dir__',\n",
       " '__doc__',\n",
       " '__eq__',\n",
       " '__format__',\n",
       " '__ge__',\n",
       " '__getattribute__',\n",
       " '__gt__',\n",
       " '__hash__',\n",
       " '__init__',\n",
       " '__init_subclass__',\n",
       " '__le__',\n",
       " '__lt__',\n",
       " '__module__',\n",
       " '__ne__',\n",
       " '__new__',\n",
       " '__reduce__',\n",
       " '__reduce_ex__',\n",
       " '__repr__',\n",
       " '__setattr__',\n",
       " '__sizeof__',\n",
       " '__str__',\n",
       " '__subclasshook__',\n",
       " '__weakref__',\n",
       " 'door',\n",
       " 'drive',\n",
       " 'enginetypr',\n",
       " 'window']"
      ]
     },
     "execution_count": 20,
     "metadata": {},
     "output_type": "execute_result"
    }
   ],
   "source": [
    "dir(Car1) ### all the parameters of class"
   ]
  },
  {
   "cell_type": "code",
   "execution_count": 16,
   "id": "13f31e3a",
   "metadata": {},
   "outputs": [
    {
     "data": {
      "text/plain": [
       "<function Car.__sizeof__()>"
      ]
     },
     "execution_count": 16,
     "metadata": {},
     "output_type": "execute_result"
    }
   ],
   "source": [
    "Car1.__sizeof__"
   ]
  },
  {
   "cell_type": "code",
   "execution_count": 21,
   "id": "3a2e07bb",
   "metadata": {},
   "outputs": [
    {
     "name": "stdout",
     "output_type": "stream",
     "text": [
      "The person drives the Car\n"
     ]
    }
   ],
   "source": [
    "Car1.drive()"
   ]
  },
  {
   "cell_type": "code",
   "execution_count": 22,
   "id": "81329eb2",
   "metadata": {},
   "outputs": [],
   "source": [
    "#### Inheritence"
   ]
  },
  {
   "cell_type": "code",
   "execution_count": 31,
   "id": "79d121aa",
   "metadata": {},
   "outputs": [],
   "source": [
    "class audi(Car): ### have to define Parent class\n",
    "    def __init__(self,window,door,enginetype,enableai):\n",
    "        super().__init__(window,door,enginetype) ## initialize the parent class variable via this process\n",
    "        self.enableai = enableai\n",
    "        \n",
    "    def selfdriving(self):\n",
    "        print(\"The Car is Audi\")"
   ]
  },
  {
   "cell_type": "code",
   "execution_count": 32,
   "id": "3b2c015d",
   "metadata": {},
   "outputs": [],
   "source": [
    "Ad=audi(1,3,4,5)"
   ]
  },
  {
   "cell_type": "code",
   "execution_count": 38,
   "id": "d80396b6",
   "metadata": {},
   "outputs": [
    {
     "data": {
      "text/plain": [
       "4"
      ]
     },
     "execution_count": 38,
     "metadata": {},
     "output_type": "execute_result"
    }
   ],
   "source": [
    "Ad.enginetypr"
   ]
  },
  {
   "cell_type": "code",
   "execution_count": 39,
   "id": "a3489079",
   "metadata": {},
   "outputs": [
    {
     "name": "stdout",
     "output_type": "stream",
     "text": [
      "The Car is Audi\n"
     ]
    }
   ],
   "source": [
    "Ad.selfdriving()"
   ]
  },
  {
   "cell_type": "code",
   "execution_count": null,
   "id": "39331d40",
   "metadata": {},
   "outputs": [],
   "source": []
  }
 ],
 "metadata": {
  "kernelspec": {
   "display_name": "Python 3 (ipykernel)",
   "language": "python",
   "name": "python3"
  },
  "language_info": {
   "codemirror_mode": {
    "name": "ipython",
    "version": 3
   },
   "file_extension": ".py",
   "mimetype": "text/x-python",
   "name": "python",
   "nbconvert_exporter": "python",
   "pygments_lexer": "ipython3",
   "version": "3.9.20"
  }
 },
 "nbformat": 4,
 "nbformat_minor": 5
}
